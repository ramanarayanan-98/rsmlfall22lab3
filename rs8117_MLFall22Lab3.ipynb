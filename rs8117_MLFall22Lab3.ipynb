{
  "cells": [
    {
      "cell_type": "markdown",
      "metadata": {
        "id": "view-in-github",
        "colab_type": "text"
      },
      "source": [
        "<a href=\"https://colab.research.google.com/github/ramanarayanan-98/rsmlfall22lab3/blob/main/rs8117_MLFall22Lab3.ipynb\" target=\"_parent\"><img src=\"https://colab.research.google.com/assets/colab-badge.svg\" alt=\"Open In Colab\"/></a>"
      ]
    },
    {
      "cell_type": "markdown",
      "metadata": {
        "id": "s449_PFOGpUl"
      },
      "source": [
        "# Gradient Descent Optimization\n",
        "\n",
        "In the ``demo_breast_cancer.ipynb``, we used the `sklearn` built-in `LogisticRegression` class to find the weights for the logistic regression problem.   The `fit` routine in that class has an *optimizer* to select the weights to best match the data.  To understand how that optimizer works, in this demo, we will build a very simple gradient descent optimizer from scratch.  You will learn to:\n",
        "* Compute the gradients of a loss function and implement the gradient calculations in python\n",
        "* Implement a simple gradient descent optimizer\n",
        "* Visualize the effect of the learning rate in gradient descent\n",
        "* Implement an adaptive learning rate algorithm"
      ]
    },
    {
      "cell_type": "markdown",
      "metadata": {
        "id": "EWRgRAYHGpUn"
      },
      "source": [
        "## Loading the Breast Cancer Data\n",
        "\n",
        "We first load the standard packages."
      ]
    },
    {
      "cell_type": "code",
      "execution_count": null,
      "metadata": {
        "id": "Ipls97uAGpUo"
      },
      "outputs": [],
      "source": [
        "import numpy as np\n",
        "import matplotlib.pyplot as plt\n",
        "import pandas as pd\n",
        "%matplotlib inline\n",
        "from sklearn import preprocessing"
      ]
    },
    {
      "cell_type": "markdown",
      "metadata": {
        "id": "krbj0ZAqGpUp"
      },
      "source": [
        "We next load the data from the [breast cancer demo](../logistic/breast_cancer.ipynb).  "
      ]
    },
    {
      "cell_type": "code",
      "execution_count": null,
      "metadata": {
        "id": "ipynRLbEGpUq",
        "colab": {
          "base_uri": "https://localhost:8080/",
          "height": 206
        },
        "outputId": "79f2ae4e-ddbf-4988-bd45-7b42986a8c80"
      },
      "outputs": [
        {
          "output_type": "execute_result",
          "data": {
            "text/plain": [
              "        id  thick  size_unif  shape_unif  marg  cell_size  bare  chrom  \\\n",
              "0  1000025      5          1           1     1          2   1.0      3   \n",
              "1  1002945      5          4           4     5          7  10.0      3   \n",
              "2  1015425      3          1           1     1          2   2.0      3   \n",
              "3  1016277      6          8           8     1          3   4.0      3   \n",
              "4  1017023      4          1           1     3          2   1.0      3   \n",
              "\n",
              "   normal  mit  class  \n",
              "0       1    1      2  \n",
              "1       2    1      2  \n",
              "2       1    1      2  \n",
              "3       7    1      2  \n",
              "4       1    1      2  "
            ],
            "text/html": [
              "\n",
              "  <div id=\"df-7916e0b3-fb7c-4d5d-971c-f9d03a0a95d0\">\n",
              "    <div class=\"colab-df-container\">\n",
              "      <div>\n",
              "<style scoped>\n",
              "    .dataframe tbody tr th:only-of-type {\n",
              "        vertical-align: middle;\n",
              "    }\n",
              "\n",
              "    .dataframe tbody tr th {\n",
              "        vertical-align: top;\n",
              "    }\n",
              "\n",
              "    .dataframe thead th {\n",
              "        text-align: right;\n",
              "    }\n",
              "</style>\n",
              "<table border=\"1\" class=\"dataframe\">\n",
              "  <thead>\n",
              "    <tr style=\"text-align: right;\">\n",
              "      <th></th>\n",
              "      <th>id</th>\n",
              "      <th>thick</th>\n",
              "      <th>size_unif</th>\n",
              "      <th>shape_unif</th>\n",
              "      <th>marg</th>\n",
              "      <th>cell_size</th>\n",
              "      <th>bare</th>\n",
              "      <th>chrom</th>\n",
              "      <th>normal</th>\n",
              "      <th>mit</th>\n",
              "      <th>class</th>\n",
              "    </tr>\n",
              "  </thead>\n",
              "  <tbody>\n",
              "    <tr>\n",
              "      <th>0</th>\n",
              "      <td>1000025</td>\n",
              "      <td>5</td>\n",
              "      <td>1</td>\n",
              "      <td>1</td>\n",
              "      <td>1</td>\n",
              "      <td>2</td>\n",
              "      <td>1.0</td>\n",
              "      <td>3</td>\n",
              "      <td>1</td>\n",
              "      <td>1</td>\n",
              "      <td>2</td>\n",
              "    </tr>\n",
              "    <tr>\n",
              "      <th>1</th>\n",
              "      <td>1002945</td>\n",
              "      <td>5</td>\n",
              "      <td>4</td>\n",
              "      <td>4</td>\n",
              "      <td>5</td>\n",
              "      <td>7</td>\n",
              "      <td>10.0</td>\n",
              "      <td>3</td>\n",
              "      <td>2</td>\n",
              "      <td>1</td>\n",
              "      <td>2</td>\n",
              "    </tr>\n",
              "    <tr>\n",
              "      <th>2</th>\n",
              "      <td>1015425</td>\n",
              "      <td>3</td>\n",
              "      <td>1</td>\n",
              "      <td>1</td>\n",
              "      <td>1</td>\n",
              "      <td>2</td>\n",
              "      <td>2.0</td>\n",
              "      <td>3</td>\n",
              "      <td>1</td>\n",
              "      <td>1</td>\n",
              "      <td>2</td>\n",
              "    </tr>\n",
              "    <tr>\n",
              "      <th>3</th>\n",
              "      <td>1016277</td>\n",
              "      <td>6</td>\n",
              "      <td>8</td>\n",
              "      <td>8</td>\n",
              "      <td>1</td>\n",
              "      <td>3</td>\n",
              "      <td>4.0</td>\n",
              "      <td>3</td>\n",
              "      <td>7</td>\n",
              "      <td>1</td>\n",
              "      <td>2</td>\n",
              "    </tr>\n",
              "    <tr>\n",
              "      <th>4</th>\n",
              "      <td>1017023</td>\n",
              "      <td>4</td>\n",
              "      <td>1</td>\n",
              "      <td>1</td>\n",
              "      <td>3</td>\n",
              "      <td>2</td>\n",
              "      <td>1.0</td>\n",
              "      <td>3</td>\n",
              "      <td>1</td>\n",
              "      <td>1</td>\n",
              "      <td>2</td>\n",
              "    </tr>\n",
              "  </tbody>\n",
              "</table>\n",
              "</div>\n",
              "      <button class=\"colab-df-convert\" onclick=\"convertToInteractive('df-7916e0b3-fb7c-4d5d-971c-f9d03a0a95d0')\"\n",
              "              title=\"Convert this dataframe to an interactive table.\"\n",
              "              style=\"display:none;\">\n",
              "        \n",
              "  <svg xmlns=\"http://www.w3.org/2000/svg\" height=\"24px\"viewBox=\"0 0 24 24\"\n",
              "       width=\"24px\">\n",
              "    <path d=\"M0 0h24v24H0V0z\" fill=\"none\"/>\n",
              "    <path d=\"M18.56 5.44l.94 2.06.94-2.06 2.06-.94-2.06-.94-.94-2.06-.94 2.06-2.06.94zm-11 1L8.5 8.5l.94-2.06 2.06-.94-2.06-.94L8.5 2.5l-.94 2.06-2.06.94zm10 10l.94 2.06.94-2.06 2.06-.94-2.06-.94-.94-2.06-.94 2.06-2.06.94z\"/><path d=\"M17.41 7.96l-1.37-1.37c-.4-.4-.92-.59-1.43-.59-.52 0-1.04.2-1.43.59L10.3 9.45l-7.72 7.72c-.78.78-.78 2.05 0 2.83L4 21.41c.39.39.9.59 1.41.59.51 0 1.02-.2 1.41-.59l7.78-7.78 2.81-2.81c.8-.78.8-2.07 0-2.86zM5.41 20L4 18.59l7.72-7.72 1.47 1.35L5.41 20z\"/>\n",
              "  </svg>\n",
              "      </button>\n",
              "      \n",
              "  <style>\n",
              "    .colab-df-container {\n",
              "      display:flex;\n",
              "      flex-wrap:wrap;\n",
              "      gap: 12px;\n",
              "    }\n",
              "\n",
              "    .colab-df-convert {\n",
              "      background-color: #E8F0FE;\n",
              "      border: none;\n",
              "      border-radius: 50%;\n",
              "      cursor: pointer;\n",
              "      display: none;\n",
              "      fill: #1967D2;\n",
              "      height: 32px;\n",
              "      padding: 0 0 0 0;\n",
              "      width: 32px;\n",
              "    }\n",
              "\n",
              "    .colab-df-convert:hover {\n",
              "      background-color: #E2EBFA;\n",
              "      box-shadow: 0px 1px 2px rgba(60, 64, 67, 0.3), 0px 1px 3px 1px rgba(60, 64, 67, 0.15);\n",
              "      fill: #174EA6;\n",
              "    }\n",
              "\n",
              "    [theme=dark] .colab-df-convert {\n",
              "      background-color: #3B4455;\n",
              "      fill: #D2E3FC;\n",
              "    }\n",
              "\n",
              "    [theme=dark] .colab-df-convert:hover {\n",
              "      background-color: #434B5C;\n",
              "      box-shadow: 0px 1px 3px 1px rgba(0, 0, 0, 0.15);\n",
              "      filter: drop-shadow(0px 1px 2px rgba(0, 0, 0, 0.3));\n",
              "      fill: #FFFFFF;\n",
              "    }\n",
              "  </style>\n",
              "\n",
              "      <script>\n",
              "        const buttonEl =\n",
              "          document.querySelector('#df-7916e0b3-fb7c-4d5d-971c-f9d03a0a95d0 button.colab-df-convert');\n",
              "        buttonEl.style.display =\n",
              "          google.colab.kernel.accessAllowed ? 'block' : 'none';\n",
              "\n",
              "        async function convertToInteractive(key) {\n",
              "          const element = document.querySelector('#df-7916e0b3-fb7c-4d5d-971c-f9d03a0a95d0');\n",
              "          const dataTable =\n",
              "            await google.colab.kernel.invokeFunction('convertToInteractive',\n",
              "                                                     [key], {});\n",
              "          if (!dataTable) return;\n",
              "\n",
              "          const docLinkHtml = 'Like what you see? Visit the ' +\n",
              "            '<a target=\"_blank\" href=https://colab.research.google.com/notebooks/data_table.ipynb>data table notebook</a>'\n",
              "            + ' to learn more about interactive tables.';\n",
              "          element.innerHTML = '';\n",
              "          dataTable['output_type'] = 'display_data';\n",
              "          await google.colab.output.renderOutput(dataTable, element);\n",
              "          const docLink = document.createElement('div');\n",
              "          docLink.innerHTML = docLinkHtml;\n",
              "          element.appendChild(docLink);\n",
              "        }\n",
              "      </script>\n",
              "    </div>\n",
              "  </div>\n",
              "  "
            ]
          },
          "metadata": {},
          "execution_count": 15
        }
      ],
      "source": [
        "names = ['id','thick','size_unif','shape_unif','marg','cell_size','bare',\n",
        "         'chrom','normal','mit','class']\n",
        "df = pd.read_csv('http://archive.ics.uci.edu/ml/machine-learning-databases/' +\n",
        "                 'breast-cancer-wisconsin/breast-cancer-wisconsin.data',\n",
        "                names=names,na_values='?',header=None)\n",
        "df = df.dropna()\n",
        "df.head()"
      ]
    },
    {
      "cell_type": "markdown",
      "metadata": {
        "id": "5B77gpcPGpUr"
      },
      "source": [
        "As in the breast cancer demo, we create a data matrix `X` of various features of the breast cancer sample.  The response vector `y` is a binary indicating if each sample is benign or malignant.  "
      ]
    },
    {
      "cell_type": "code",
      "execution_count": null,
      "metadata": {
        "id": "x9ULFQ8vGpUs"
      },
      "outputs": [],
      "source": [
        "# Get the predictors\n",
        "xnames = ['thick','size_unif','shape_unif','marg','cell_size','bare',\n",
        "         'chrom','normal','mit']\n",
        "Xraw = np.array(df[xnames])\n",
        "# As usual, let's also append an all ones vector onto X to serve as the intercept feature\n",
        "X = np.concatenate((np.ones((Xraw.shape[0],1)),Xraw),axis=1)\n",
        "\n",
        "# Get the response.  Convert to a zero-one indicator \n",
        "yraw = np.array(df['class'])\n",
        "BEN_VAL = 2   # value in the 'class' label for benign samples\n",
        "MAL_VAL = 4   # value in the 'class' label for malignant samples\n",
        "y = (yraw == MAL_VAL).astype(int) # now y has values of 0,1 \n",
        "Iben = (y==0)\n",
        "Imal = (y==1)"
      ]
    },
    {
      "cell_type": "markdown",
      "metadata": {
        "id": "aRbLSpsbGpUs"
      },
      "source": [
        "We want to learn the classification rule to predict `y` from `X`.  We will do so with logistic regression."
      ]
    },
    {
      "cell_type": "markdown",
      "metadata": {
        "id": "XgUmpIGtGpUt"
      },
      "source": [
        "## Computing the Gradient and Loss Function\n",
        "\n",
        "Recall that training a logistic function means finding a weight vector $\\beta$ for the classification rule:\n",
        "* Predict 1 for data vector $\\mathbf{x}$ if $\\frac{1}{1 + e^{-\\mathbf{x}^T\\boldsymbol{\\beta}}} > 1/2$, i.e. if $\\mathbf{x}^T\\boldsymbol{\\beta} > 0$. \n",
        "* Predict 0 for data vector $\\mathbf{x}$ if $\\frac{1}{1 + e^{-\\mathbf{x}^T\\boldsymbol{\\beta}}} \\leq 1/2$, i.e. if $\\mathbf{x}^T\\boldsymbol{\\beta} \\leq 0$.\n",
        "\n",
        "Let $h(\\mathbf{x}^T\\boldsymbol{\\beta}) = \\frac{1}{1 + e^{-\\mathbf{x}^T\\boldsymbol{\\beta}}}$. To find $\\beta$, we minimize the cross-entropy loss (aka the logistic loss):\n",
        "$$\n",
        "L(\\boldsymbol{\\beta}) = - \\sum_{i=1}^n y_i \\log(h(\\mathbf{x}_i^T\\boldsymbol{\\beta})) + (1-y_i) \\log(1-h(\\mathbf{x}_i^T\\boldsymbol{\\beta})).\n",
        "$$\n",
        "As mentioned in class we have\n",
        "$$\n",
        "\\nabla L(\\boldsymbol{\\beta}) = \\mathbf{X}^T(h(\\mathbf{X}\\boldsymbol{\\beta}) - y)\n",
        "$$\n",
        "where $h(\\mathbf{X}\\boldsymbol{\\beta})$ denotes the vector obtained by applying $h$ to every entry in the vector $\\mathbf{X}\\boldsymbol{\\beta}$. \n",
        "    \n",
        "    \n",
        "We will first write a function to compute `L` and its gradient `Lgrad`. One issue we will find is that directly computing `L` using the expression above can be *numerically unstable*. Essentially what can happen is you end up taking logs of numbers very close to zero and Python will return NaNs due to issues with using finite precision arithmetic. To deal with this problem, we write down an alternative expression for `L` which is *mathematically equivalent* but can be computed more accurately in finite precision arithmetic:\n",
        "$$\n",
        "L(\\boldsymbol{\\beta}) = \\sum_{i=1}^n (1-y_i)(\\mathbf{x}_i^T\\boldsymbol{\\beta}) - \\log(h(\\mathbf{x}_i^T\\boldsymbol{\\beta})).\n",
        "$$"
      ]
    },
    {
      "cell_type": "code",
      "execution_count": null,
      "metadata": {
        "id": "6Mqae-pPGpUu"
      },
      "outputs": [],
      "source": [
        "def Leval(beta,X,y):\n",
        "    \"\"\"\n",
        "    Compute the loss and gradient given beta,X,y\n",
        "    \"\"\"\n",
        "    z = X@beta\n",
        "    h = 1/(1+np.exp(-z))\n",
        "    L = np.sum((1-y)*z - np.log(h))\n",
        "\n",
        "    # Gradient\n",
        "    Lgrad = (X.T)@(h-y)\n",
        "    return L, Lgrad"
      ]
    },
    {
      "cell_type": "markdown",
      "metadata": {
        "id": "-dOhVzcAGpUv"
      },
      "source": [
        "We can test our function on a random parameter vector $\\boldsymbol{\\beta}_0$."
      ]
    },
    {
      "cell_type": "code",
      "execution_count": null,
      "metadata": {
        "id": "0QTePmOOGpUv",
        "colab": {
          "base_uri": "https://localhost:8080/"
        },
        "outputId": "cc7b2873-b934-4755-83fa-a0e2d78c7aae"
      },
      "outputs": [
        {
          "output_type": "stream",
          "name": "stdout",
          "text": [
            "4355.557142554344\n"
          ]
        }
      ],
      "source": [
        "# Some random point\n",
        "p = X.shape[1]\n",
        "beta0 = np.random.randn(p)\n",
        "\n",
        "# Call the function\n",
        "L, Lgrad = Leval(beta0,X,y)\n",
        "print(L)"
      ]
    },
    {
      "cell_type": "markdown",
      "metadata": {
        "id": "_NZQOt9rGpUv"
      },
      "source": [
        "It's not ideal that the loss function `L(beta,X,y)` depends on the parameters `X` and `y`.  Most numerical optimizers expect a function that only depends on `beta`. We can acheive this by using a Python `lambda` function to fix the parameters `X` and `y`."
      ]
    },
    {
      "cell_type": "code",
      "execution_count": null,
      "metadata": {
        "id": "BD1wd5C8GpUw",
        "colab": {
          "base_uri": "https://localhost:8080/"
        },
        "outputId": "cd2804d8-3403-4f82-b20c-5c52ca2b9b2a"
      },
      "outputs": [
        {
          "output_type": "stream",
          "name": "stdout",
          "text": [
            "4355.557142554344\n"
          ]
        }
      ],
      "source": [
        "# Create a function with X,y fixed\n",
        "Leval_param = lambda beta: Leval(beta,X,y)\n",
        "\n",
        "# You can now pass a parameter like w0\n",
        "L0, Lgrad0 = Leval_param(beta0)\n",
        "print(L0)"
      ]
    },
    {
      "cell_type": "markdown",
      "metadata": {
        "id": "dKnnsgvxGpUw"
      },
      "source": [
        "### Testing the gradient\n",
        "\n",
        "Whenever you write a function for computing a gradient, it is very important to test if the gradient is correct.  This is a common reason people's code does not work with numerical optimizers. We saw one way of doign this using a finite difference method here: https://drive.google.com/file/d/1OjJFbyn59kxIIbAtAGRYZ6bv1RCgerC7/view?usp=sharing. Another simple method is to take two points `beta0` and `beta1` that are close to one another and then verify that:\n",
        "$$\n",
        "L(\\boldsymbol{\\beta}_1) - L(\\boldsymbol{\\beta}_0) \\approx \\langle \\nabla L(\\boldsymbol{\\beta}_0), \\boldsymbol{\\beta}_1 - \\boldsymbol{\\beta}_0\\rangle.\n",
        "$$"
      ]
    },
    {
      "cell_type": "code",
      "execution_count": null,
      "metadata": {
        "id": "rDxizKO5GpUw",
        "colab": {
          "base_uri": "https://localhost:8080/"
        },
        "outputId": "e3a26b57-3dae-490b-834e-7cac9c217661"
      },
      "outputs": [
        {
          "output_type": "stream",
          "name": "stdout",
          "text": [
            "Actual L1-L0    =   1.1142e-03\n",
            "Predicted L1-L0 =   1.1142e-03\n"
          ]
        }
      ],
      "source": [
        "# Take a random initial point\n",
        "p = X.shape[1]\n",
        "beta0 = np.random.randn(p)\n",
        "\n",
        "# Perturb the point\n",
        "step = 1e-6\n",
        "beta1 = beta0 + step*np.random.randn(p)\n",
        "\n",
        "# Measure the function and gradient at w0 and w1\n",
        "L0, Lgrad0 = Leval_param(beta0)\n",
        "L1, Lgrad1 = Leval_param(beta1)\n",
        "\n",
        "# Predict the amount the function should have changed based on the gradient\n",
        "dL_est = Lgrad0.T@(beta1-beta0)\n",
        "\n",
        "# Print the two values to see if they are close\n",
        "print(\"Actual L1-L0    = %12.4e\" % (L1-L0))\n",
        "print(\"Predicted L1-L0 = %12.4e\" % dL_est)"
      ]
    },
    {
      "cell_type": "markdown",
      "metadata": {
        "id": "8MeoNFmpGpUx"
      },
      "source": [
        "You can see that the two agree well. You can run the block multiple times to get different answers (depending on the random choice of $\\boldsymbol{\\beta}_0$, but you should always see agreement."
      ]
    },
    {
      "cell_type": "markdown",
      "metadata": {
        "id": "yv1xIunDGpUy"
      },
      "source": [
        "## A Simple Gradient Descent Optimizer\n",
        "\n",
        "Now, we build a simple gradient descent optimizer function with a fixed learning rate."
      ]
    },
    {
      "cell_type": "markdown",
      "source": [],
      "metadata": {
        "id": "3gHGyORZCgfk"
      }
    },
    {
      "cell_type": "code",
      "execution_count": null,
      "metadata": {
        "id": "gw8u34OuGpUy"
      },
      "outputs": [],
      "source": [
        "def grad_opt_simp(grad_func, beta0, lr=1e-3,nit=1000):\n",
        "    \"\"\"\n",
        "    Simple gradient descent optimization\n",
        "    \n",
        "    grad_func:  A function that returns the objective function L, and its gradient Leval\n",
        "    beta0:  Initial estimate for parameters beta\n",
        "    lr:     learning rate\n",
        "    nit:    Number of iterations\n",
        "    \"\"\"\n",
        "    \n",
        "    # Create history dictionary for tracking progress per iteration.\n",
        "    # This isn't necessary if you just want the final answer, but it \n",
        "    # is useful for visualizing convergence and debugging\n",
        "    hist = {'beta': [], 'L': []}\n",
        "    \n",
        "    # initialize\n",
        "    beta = beta0\n",
        "    \n",
        "    # Loop over iterations\n",
        "    for it in range(nit):\n",
        "\n",
        "        # Evaluate the function and gradient\n",
        "        L, Lgrad = grad_func(beta)\n",
        "\n",
        "        # Take a gradient step\n",
        "        beta = beta - lr*Lgrad\n",
        "        \n",
        "         # Save history\n",
        "        hist['L'].append(L)\n",
        "        hist['beta'].append(beta)\n",
        "\n",
        "    # Convert to numpy arrays\n",
        "    hist['L'] = np.array(hist['L'])\n",
        "    hist['beta'] = np.array(hist['beta'])\n",
        "   \n",
        "    return beta, L, hist"
      ]
    },
    {
      "cell_type": "markdown",
      "metadata": {
        "id": "1koh4lfuGpUy"
      },
      "source": [
        "We now run the gradient descent starting from a initial condition of $\\boldsymbol{\\beta}_0 = \\vec{0}$."
      ]
    },
    {
      "cell_type": "code",
      "execution_count": null,
      "metadata": {
        "scrolled": true,
        "id": "wUQlqAeLGpUy",
        "colab": {
          "base_uri": "https://localhost:8080/",
          "height": 279
        },
        "outputId": "2961f018-10ed-4730-cc8d-97ac1bdb0390"
      },
      "outputs": [
        {
          "output_type": "display_data",
          "data": {
            "text/plain": [
              "<Figure size 432x288 with 1 Axes>"
            ],
            "image/png": "[encoded data removed]"
          },
          "metadata": {
            "needs_background": "light"
          }
        }
      ],
      "source": [
        "# Initial condition\n",
        "beta0 = np.zeros(p)\n",
        "\n",
        "# Parameters\n",
        "nit = 2000\n",
        "lr = 1e-5\n",
        "\n",
        "# Run the gradient descent\n",
        "beta, L, hist = grad_opt_simp(Leval_param, beta0, lr=lr, nit=nit)\n",
        "\n",
        "# Plot the training loss\n",
        "t = np.arange(nit)\n",
        "plt.plot(t, hist['L'])\n",
        "plt.xlabel(\"Number of iterations\")\n",
        "plt.ylabel(\"Loss\")\n",
        "plt.grid()"
      ]
    },
    {
      "cell_type": "markdown",
      "metadata": {
        "id": "zzNucOTmGpUz"
      },
      "source": [
        "We can measure the accuracy of the final estimate by creating a predict method."
      ]
    },
    {
      "cell_type": "code",
      "execution_count": null,
      "metadata": {
        "id": "EqD-fT40GpUz"
      },
      "outputs": [],
      "source": [
        "def predict(X,beta):\n",
        "    z = X@beta\n",
        "    yhat = (z > 0)\n",
        "    return (1*yhat)"
      ]
    },
    {
      "cell_type": "code",
      "execution_count": null,
      "metadata": {
        "scrolled": true,
        "id": "xKFRxS0nGpUz",
        "colab": {
          "base_uri": "https://localhost:8080/"
        },
        "outputId": "f9ef7406-3299-4cd0-c2c4-6442761d74fa"
      },
      "outputs": [
        {
          "output_type": "stream",
          "name": "stdout",
          "text": [
            "Train accuracy = 0.941435\n"
          ]
        }
      ],
      "source": [
        "yhat = predict(X,beta)\n",
        "acc = np.mean(yhat == y)\n",
        "print(\"Train accuracy = %f\" % acc)"
      ]
    },
    {
      "cell_type": "markdown",
      "metadata": {
        "id": "YGSTLqqbGpU0"
      },
      "source": [
        "This is not quite as good as the accuracy for the `sklearn` method from the demo, which was about 98.5%.  The reason is that the learning rate was somewhat slow and we didn't yet fully converge.\n",
        "\n",
        "To see the effect of the learning rate, the code below tries different learning rates."
      ]
    },
    {
      "cell_type": "code",
      "execution_count": null,
      "metadata": {
        "id": "1Ip3NuUPGpU0",
        "colab": {
          "base_uri": "https://localhost:8080/",
          "height": 372
        },
        "outputId": "4d04825b-e3be-4c62-9948-887f0006f633"
      },
      "outputs": [
        {
          "output_type": "stream",
          "name": "stdout",
          "text": [
            "lr=    1.00e-05  Train accuracy = 0.941435\n",
            "lr=    1.00e-04  Train accuracy = 0.969253\n",
            "lr=    1.00e-03  Train accuracy = 0.970717\n",
            "lr=    1.00e-02  Train accuracy = 0.964861\n"
          ]
        },
        {
          "output_type": "execute_result",
          "data": {
            "text/plain": [
              "<matplotlib.legend.Legend at 0x7fbfaed64090>"
            ]
          },
          "metadata": {},
          "execution_count": 25
        },
        {
          "output_type": "display_data",
          "data": {
            "text/plain": [
              "<Figure size 432x288 with 1 Axes>"
            ],
            "image/png": "[encoded data removed]"
          },
          "metadata": {
            "needs_background": "light"
          }
        }
      ],
      "source": [
        "# Learning rate values to test\n",
        "lr_test = [1e-5,1e-4,1e-3,1e-2]\n",
        "ntest = len(lr_test)\n",
        "\n",
        "# Strings for the legend\n",
        "leg_str = []\n",
        "\n",
        "beta0 = np.zeros(p)\n",
        "for i in range(ntest):\n",
        "    # Run the optimizer\n",
        "    beta, L, hist = grad_opt_simp(Leval_param, beta0, lr=lr_test[i], nit=nit)    \n",
        "    \n",
        "    # Plot the results\n",
        "    plt.semilogy(t, hist['L'])\n",
        "    plt.xlabel(\"Number of iterations\")\n",
        "    plt.ylabel(\"Loss\")\n",
        "    leg_str.append(\"lr=%12.2e\" % lr_test[i])\n",
        "    \n",
        "    # Measure the train accuracy\n",
        "    yhat = predict(X,beta)\n",
        "    acc = np.mean(yhat == y)\n",
        "    print(\"lr=%12.2e  Train accuracy = %f\" % (lr_test[i], acc))\n",
        "    \n",
        "plt.grid()\n",
        "plt.legend(leg_str, loc='upper right')"
      ]
    },
    {
      "cell_type": "markdown",
      "metadata": {
        "id": "eAjaxffyGpU0"
      },
      "source": [
        "We see that increasing the learning rate, speeds the convergence time, but the optimization is beginning to go unstable. It recovers from this instability for learning rate `1e-3`, but try running with rate `1e-2` to see more of an issue."
      ]
    },
    {
      "cell_type": "markdown",
      "metadata": {
        "id": "fZkdfE06GpU1"
      },
      "source": [
        "## Adaptive Step Size\n",
        "\n",
        "The above example shows that gradient descent is sensitive to the step size.  We now consider a variant of gradient descent with an adaptive step-size using the Armijo rule discussed in class."
      ]
    },
    {
      "cell_type": "code",
      "execution_count": null,
      "metadata": {
        "id": "dnZJvxOTGpU1"
      },
      "outputs": [],
      "source": [
        "def grad_opt_adapt(grad_func, beta0, nit=2000,with_reg = False,lamb = 0, lr_init=1e-4):\n",
        "    \"\"\"\n",
        "    Gradient descent optimization with adaptive step size\n",
        "    \n",
        "    feval:  A function that returns f, fgrad, the objective\n",
        "            function and its gradient\n",
        "    beta0:  Initial estimate\n",
        "    nit:    Number of iterations\n",
        "    lr:     Initial learning rate\n",
        "    \"\"\"\n",
        "    \n",
        "    # Set initial point\n",
        "    beta = beta0\n",
        "    lr = lr_init\n",
        "    \n",
        "    # Create history dictionary for tracking progress per iteration.\n",
        "    # This isn't necessary if you just want the final answer, but it \n",
        "    # is useful for debugging\n",
        "    hist = {'lr': [], 'beta': [], 'L': []}\n",
        "    if with_reg:\n",
        "      L,Lgrad = grad_func(beta0,lamb)\n",
        "    else:\n",
        "      L, Lgrad = grad_func(beta0)\n",
        "    for it in range(nit):\n",
        "\n",
        "        # Take a gradient step\n",
        "        beta1 = beta - lr*Lgrad\n",
        "\n",
        "        # Evaluate the test point by computing the objective function, L1,\n",
        "        # at the test point and the predicted decrease, df_est\n",
        "        if with_reg:\n",
        "          L1, Lgrad1 = grad_func(beta1,lamb)\n",
        "        else:\n",
        "          L1, Lgrad1 = grad_func(beta1)\n",
        "        df_est = Lgrad.T@(beta1-beta)\n",
        "        \n",
        "        # Check if test point passes the Armijo condition\n",
        "        alpha = 0.5\n",
        "        if (L1-L < alpha*df_est) and (L1 < L):\n",
        "            # If descent is sufficient, accept the point and increase the learning rate\n",
        "            lr = lr*2\n",
        "            L = L1\n",
        "            Lgrad = Lgrad1\n",
        "            beta = beta1\n",
        "        else:\n",
        "            # Otherwise, decrease the learning rate\n",
        "            lr = lr/2            \n",
        "            \n",
        "        # Save history\n",
        "        hist['L'].append(L)\n",
        "        hist['lr'].append(lr)\n",
        "        hist['beta'].append(beta0)\n",
        "\n",
        "    # Convert to numpy arrays\n",
        "    for elem in ('L', 'lr', 'beta'):\n",
        "        hist[elem] = np.array(hist[elem])\n",
        "        \n",
        "    return beta, L, hist\n"
      ]
    },
    {
      "cell_type": "markdown",
      "metadata": {
        "id": "Q6gKouOMGpU1"
      },
      "source": [
        "We can now run the new optimizer."
      ]
    },
    {
      "cell_type": "code",
      "execution_count": null,
      "metadata": {
        "id": "tU3YbmkxGpU1",
        "colab": {
          "base_uri": "https://localhost:8080/",
          "height": 297
        },
        "outputId": "649d250c-2fd9-4b4d-dd23-135b3eb8e11a"
      },
      "outputs": [
        {
          "output_type": "display_data",
          "data": {
            "text/plain": [
              "<Figure size 432x288 with 2 Axes>"
            ],
            "image/png": "[encoded data removed]"
          },
          "metadata": {
            "needs_background": "light"
          }
        }
      ],
      "source": [
        "beta0 = np.zeros(p)\n",
        "nit = 2000\n",
        "beta, L, hist = grad_opt_adapt(Leval_param, beta0, nit=nit)\n",
        "\n",
        "t = np.arange(nit)\n",
        "plt.subplot(2,1,1)\n",
        "plt.semilogy(t, hist['L'])\n",
        "plt.grid()\n",
        "plt.ylabel('Loss')\n",
        "\n",
        "plt.subplot(2,1,2)\n",
        "plt.loglog(t, hist['lr'])\n",
        "plt.grid()\n",
        "plt.ylabel('Learning rate')\n",
        "plt.xlabel('Iteration')\n",
        "plt.tight_layout()"
      ]
    },
    {
      "cell_type": "markdown",
      "metadata": {
        "id": "DD4EcuGZGpU2"
      },
      "source": [
        "Finally we measure the accuracy and see that we performed as well as the best fixed step size used above."
      ]
    },
    {
      "cell_type": "code",
      "execution_count": null,
      "metadata": {
        "id": "5RAkPpzfGpU2",
        "colab": {
          "base_uri": "https://localhost:8080/"
        },
        "outputId": "837e6620-662c-49b2-c0b9-ca934959b5a3"
      },
      "outputs": [
        {
          "output_type": "stream",
          "name": "stdout",
          "text": [
            "Train accuracy = 0.970717\n"
          ]
        }
      ],
      "source": [
        "yhat = predict(X,beta)\n",
        "acc = np.mean(yhat == y)\n",
        "print(\"Train accuracy = %f\" % acc)"
      ]
    },
    {
      "cell_type": "markdown",
      "metadata": {
        "id": "7fSBbJOBGpU3"
      },
      "source": [
        "## L2 Regularization\n",
        "\n",
        "Just as for linear regression, given enough features, logsitic regression can be prone to overfitting. In such cases, it often make sense to add regularization when training. In particular, instead of minimizing:\n",
        "$$\n",
        "L(\\mathbf{\\boldsymbol{\\beta}}) =\\sum_{i=1}^n (1-y_i)(\\mathbf{x}_i^T\\boldsymbol{\\beta}) - \\log(h(\\mathbf{x}_i^T\\boldsymbol{\\beta})).\n",
        "$$\n",
        "we might use $\\ell_2$ regularization and choose $\\beta$ to minimize\n",
        "$$\n",
        "L_R(\\boldsymbol{\\beta}) = L(\\boldsymbol{\\beta}) + \\lambda \\|\\boldsymbol{\\beta}\\|_2^2\n",
        "$$\n",
        "for some regularization parameter $\\lambda$. "
      ]
    },
    {
      "cell_type": "markdown",
      "metadata": {
        "id": "EQG4mwYYGpU3"
      },
      "source": [
        "Write a function which evaluates the regularized loss `Lr` for parameters `beta` and also computes the gradient $\\nabla L_R(\\boldsymbol{\\beta})$ at `beta`. You will have to derive an expression for this gradient to correctly implement your function."
      ]
    },
    {
      "cell_type": "code",
      "source": [
        "def Leval_reg(beta,X,y,lamb):\n",
        "    \"\"\"\n",
        "    Compute the regularized loss and gradient given beta, X, y, and regularization parameter lamb\n",
        "    \"\"\"\n",
        "    # print(beta.shape)\n",
        "    L,Lgrad = Leval_param(beta)\n",
        "    Lr = L + (lamb*(beta@beta))\n",
        "    Lrgrad = Lgrad + (2*lamb*beta)\n",
        "    return Lr, Lrgrad"
      ],
      "metadata": {
        "id": "PtUMYshsRybS"
      },
      "execution_count": null,
      "outputs": []
    },
    {
      "cell_type": "markdown",
      "metadata": {
        "id": "BqZ_CVJOGpU3"
      },
      "source": [
        "As we did above for the unregularized loss, write code to test your gradient computation. Run your test for `lamb` equals `0`,`1`,`10`,`100` and print output which confirms the accuracy of your gradient in all cases."
      ]
    },
    {
      "cell_type": "code",
      "execution_count": null,
      "metadata": {
        "id": "caxEu-uaGpU4"
      },
      "outputs": [],
      "source": [
        "Leval_reg_param = lambda beta,lamb: Leval_reg(beta,X,y,lamb)"
      ]
    },
    {
      "cell_type": "code",
      "source": [
        "lambs = [0,1,10,100]\n",
        "p = X.shape[1]\n",
        "beta0 = np.random.randn(p)\n",
        "\n",
        "# Perturb the point\n",
        "step = 1e-6\n",
        "beta1 = beta0 + step*np.random.randn(p)\n",
        "for l in lambs:\n",
        "  # Measure the function and gradient at w0 and w1\n",
        "  L0, Lgrad0 = Leval_reg_param(beta0,l)\n",
        "  L1, Lgrad1 = Leval_reg_param(beta1,l)\n",
        "\n",
        "  # Predict the amount the function should have changed based on the gradient\n",
        "  dL_est = Lgrad0.T@(beta1-beta0)\n",
        "\n",
        "  # Print the two values to see if they are close\n",
        "  print(\"Actual L1-L0    = %12.4e\" % (L1-L0))\n",
        "  print(\"Predicted L1-L0 = %12.4e\" % dL_est)"
      ],
      "metadata": {
        "colab": {
          "base_uri": "https://localhost:8080/"
        },
        "id": "O5MWJaeITFlq",
        "outputId": "12a2220f-392f-41b5-eddd-7b9a2c818e8b"
      },
      "execution_count": null,
      "outputs": [
        {
          "output_type": "stream",
          "name": "stdout",
          "text": [
            "Actual L1-L0    =   1.4945e-03\n",
            "Predicted L1-L0 =   1.4945e-03\n",
            "Actual L1-L0    =   1.4877e-03\n",
            "Predicted L1-L0 =   1.4877e-03\n",
            "Actual L1-L0    =   1.4264e-03\n",
            "Predicted L1-L0 =   1.4264e-03\n",
            "Actual L1-L0    =   8.1368e-04\n",
            "Predicted L1-L0 =   8.1367e-04\n"
          ]
        }
      ]
    },
    {
      "cell_type": "markdown",
      "metadata": {
        "id": "5XEK-AO_GpU4"
      },
      "source": [
        "For `lamb` equals `0`,`1`,`10`,`100` use `grad_opt_adapt` run for `2000` iterations with $\\boldsymbol{\\beta}_0 = \\vec{0}$ to find a parameter vector $\\beta$ which approximately minimizes $L_R(\\beta)$. For each regularization level, print the train accuracy achieved when using the optimal parameters. Note that we expect the **train accuracy to decrease** as the regularization parameter increases. Regularization often helps **test accuracy to increase**, but for this lab we're keeping things simple without a test set."
      ]
    },
    {
      "cell_type": "code",
      "execution_count": null,
      "metadata": {
        "id": "3nE4WvpRGpU4",
        "colab": {
          "base_uri": "https://localhost:8080/"
        },
        "outputId": "e2c39e68-8b25-4e23-8b80-e8a63508ad0d"
      },
      "outputs": [
        {
          "output_type": "stream",
          "name": "stdout",
          "text": [
            "Train accuracy = 0.970717 for lambda = 0\n",
            "Train accuracy = 0.969253 for lambda = 1\n",
            "Train accuracy = 0.959004 for lambda = 10\n",
            "Train accuracy = 0.920937 for lambda = 100\n"
          ]
        }
      ],
      "source": [
        "for l in lambs:\n",
        "  beta0 = np.zeros(p)\n",
        "  nit = 2000\n",
        "  beta, L, hist = grad_opt_adapt(Leval_reg_param, beta0, nit=nit,with_reg=True,lamb=l,lr_init=1e-4)\n",
        "  yhat = predict(X,beta)\n",
        "  acc = np.mean(yhat == y)\n",
        "  print(\"Train accuracy = %f for lambda = %d\" % (acc,l))\n",
        "\n",
        "# These are the outputs I got:\n",
        "# lamb = 0, Train accuracy = 0.970717\n",
        "# lamb = 1, Train accuracy = 0.969253\n",
        "# lamb = 10, Train accuracy = 0.959004\n",
        "# lamb = 100, Train accuracy = 0.920937"
      ]
    },
    {
      "cell_type": "markdown",
      "metadata": {
        "id": "kctkbgn3GpU5"
      },
      "source": [
        "## Kernel Logistic Regression, Linear Kernel\n",
        "\n",
        "Logistic regression works nicely with non-linear kernels, which can significantly improve its accuracy for certain problems. We will see an example in our next lab on classifying MNIST images. \n",
        "\n",
        "To use logistic regression with a kernel, our first step was to reparameterize the logistic loss function by replacing $\\boldsymbol{\\beta}\\in \\mathbb{R}^d$ with $\\mathbf{X}^T\\boldsymbol{\\alpha}$ where $\\boldsymbol{\\alpha}\\in \\mathbb{R}^n$ is a new parameter vector.  \n",
        "\n",
        "Our loss becomes:\n",
        "$$\n",
        "L(\\boldsymbol{\\alpha}) =\\sum_{i=1}^n (1-y_i)(\\mathbf{x}_i^T\\mathbf{X}^T\\boldsymbol{\\alpha}) - \\log(h(\\mathbf{x}_i^T\\mathbf{X}^T\\boldsymbol{\\alpha})).\n",
        "$$\n",
        "\n",
        "When using kernel methods we also typically need to uses some sort of regularization. Again, we use simple $\\ell_2$ regularization, which leads to the regularized loss:\n",
        "$$\n",
        "L_R(\\boldsymbol{\\alpha}) = L(\\boldsymbol{\\alpha}) + \\lambda \\|\\mathbf{X}^T\\boldsymbol{\\alpha}\\|_2^2\n",
        "$$"
      ]
    },
    {
      "cell_type": "markdown",
      "metadata": {
        "id": "A74HTaPZGpU5"
      },
      "source": [
        "Write a function which evaluates the regularized loss `Lr` for parameters `alpha` and also computes the gradient $\\nabla L_R(\\boldsymbol{\\alpha})$ at `alpha`. You will have to derive an expression for this gradient to implement your function. \n",
        "\n",
        "**Note**: We are not doing anything with a non-linear kernel yet, but we will in the next lab! Here we are just going through the first step of reformulating our logistic regression model to eventually use different kernels."
      ]
    },
    {
      "cell_type": "code",
      "execution_count": null,
      "metadata": {
        "id": "5hySKDFkGpU5"
      },
      "outputs": [],
      "source": [
        "def Leval_reg_linear_kernel(alpha,X,y,lamb):\n",
        "    \"\"\"\n",
        "    Compute the regularized loss and gradient given beta, X, y, and regularization parameter lamb\n",
        "    \"\"\"\n",
        "    b = X.T@alpha\n",
        "    z = X@b\n",
        "    h = 1/(1+np.exp(-z))\n",
        "    L = np.sum((1-y)*z - np.log(h))\n",
        "    Lr = L + (lamb*(b@b))\n",
        "    Lrgrad = (X@X.T)@(h-y) + 2*lamb*(X@b)\n",
        "\n",
        "    return Lr, Lrgrad"
      ]
    },
    {
      "cell_type": "markdown",
      "metadata": {
        "id": "WvR6KWxNGpU6"
      },
      "source": [
        "Once we obtain a parameter vector $\\alpha$, as shown in class, we predict a label by computing $\\mathbf{x}_{new}^T \\mathbf{X}^T\\boldsymbol{\\alpha}$ and checking if the value is greater than or equal to zero. For a matrix of testing data points $\\mathbf{X}_{test}$ where each row is a new test data point, we can implement prediction as follows for the linear (inner-product) kernel."
      ]
    },
    {
      "cell_type": "markdown",
      "metadata": {
        "id": "iWdmnTrKGpU6"
      },
      "source": [
        "Even though our reformuation leads to an equivalent loss function and regularization term, the updates performed by the gradient descent optimizer are not exactly the same. In fact, after reparameterization, we can see that gradient descent converges much more slowly to a solution. \n",
        "\n",
        "To see this your self, run `grad_opt_adapt` for `5000` steps to minimize the regularized logistic regression loss for data `X`,`y` with `lamb = 10`, using both the original formulation (involving `beta`) and the reparameterized formulation, involving `alpha`. Plot the history of how the loss function decreases over time a single plot with two lines: one for the original formulation and one for the reparameterization. Include axis labels and a legend."
      ]
    },
    {
      "cell_type": "code",
      "execution_count": null,
      "metadata": {
        "id": "NRgOSxQTGpU7"
      },
      "outputs": [],
      "source": [
        "Leval_reg_linear_kernel_param = lambda alpha,lamb: Leval_reg_linear_kernel(alpha,X,y,lamb)"
      ]
    },
    {
      "cell_type": "code",
      "source": [
        "nit = 5000\n",
        "l = 10\n",
        "beta0 = np.zeros(X.shape[1])\n",
        "alpha0 = np.zeros(X.shape[0])\n",
        "\n",
        "\n",
        "alpha, La, global_hist = grad_opt_adapt(Leval_reg_linear_kernel_param, alpha0, nit=nit, with_reg = True, lamb=l, lr_init=1e-4)\n",
        "beta, Lb, hist = grad_opt_adapt(Leval_reg_param, beta0, nit=nit,with_reg=True,lamb=l,lr_init=1e-4)\n",
        "\n",
        "\n",
        "global_hist['Lbeta'] = hist['L']\n",
        "global_hist['lrbeta'] = hist['lr']\n",
        "\n",
        "# Optimize alpha via gradient descent\n",
        "# Optimize beta via gradient descent\n",
        "# Generate plot with labels and legend"
      ],
      "metadata": {
        "id": "phEkKanbiqzC"
      },
      "execution_count": null,
      "outputs": []
    },
    {
      "cell_type": "code",
      "source": [
        "t = np.arange(nit)\n",
        "plt.subplot(2,1,1)\n",
        "plt.semilogy(t, global_hist['L'])\n",
        "plt.semilogy(t, global_hist['Lbeta'])\n",
        "plt.grid()\n",
        "plt.ylabel('Loss')\n",
        "plt.legend(['Reparameterized with Alpha', 'Original formulation with beta'])\n",
        "\n",
        "plt.subplot(2,1,2)\n",
        "plt.loglog(t, global_hist['lr'])\n",
        "plt.semilogy(t, global_hist['lrbeta'])\n",
        "plt.grid()\n",
        "plt.ylabel('Learning rate')\n",
        "plt.xlabel('Iteration')\n",
        "plt.tight_layout()\n",
        "plt.legend(['Reparameterized with Alpha', 'Original formulation with beta'])"
      ],
      "metadata": {
        "colab": {
          "base_uri": "https://localhost:8080/",
          "height": 315
        },
        "id": "wrA0hW3c2AQN",
        "outputId": "1db330ba-17a0-426a-c180-14f265546d52"
      },
      "execution_count": null,
      "outputs": [
        {
          "output_type": "execute_result",
          "data": {
            "text/plain": [
              "<matplotlib.legend.Legend at 0x7fbfac2688d0>"
            ]
          },
          "metadata": {},
          "execution_count": 36
        },
        {
          "output_type": "display_data",
          "data": {
            "text/plain": [
              "<Figure size 432x288 with 2 Axes>"
            ],
            "image/png": "[encoded data removed]"
          },
          "metadata": {
            "needs_background": "light"
          }
        }
      ]
    },
    {
      "cell_type": "markdown",
      "metadata": {
        "id": "13L6Rt3fGpU7"
      },
      "source": [
        "After `5000` steps, what is the minimum regularized objective function value acheived for each formulation of the problem? "
      ]
    },
    {
      "cell_type": "code",
      "execution_count": null,
      "metadata": {
        "id": "G2Hd08zJGpU8",
        "colab": {
          "base_uri": "https://localhost:8080/"
        },
        "outputId": "40de2c7b-0e2d-46f4-fdf3-9cab2d3da841"
      },
      "outputs": [
        {
          "output_type": "stream",
          "name": "stdout",
          "text": [
            "258.63541382568604\n",
            "189.25006637226716\n"
          ]
        }
      ],
      "source": [
        "# Print minimum objective values\n",
        "print(La)\n",
        "print(Lb)"
      ]
    },
    {
      "cell_type": "markdown",
      "metadata": {
        "id": "0lmd_XuNGpU8"
      },
      "source": [
        "Fortunately, when gradient descent converges slowly, there are other first-order optimization algorithms that can be used in its place, and often converge much faster. Here we will try using some built-in optimization methods for the `scipy` library in Python. In particular, we use the function `scipy.optimize.minimize` which is documented [here](https://docs.scipy.org/doc/scipy-0.13.0/reference/generated/scipy.optimize.minimize.html).\n",
        "\n",
        "This function takes many inputs. The two most important ones are the `fun` and `jac` arguments, which should be passed Python functions for 1) evaluating the function we want to minimize at an point and 2) evaluating the gradient of the function at any point. `jac` is short for \"Jacobian\" which is a generalization of the gradient for multi-output functions. Since we're dealing with loss function which just have one output, the Jacobian is equal to the gradient."
      ]
    },
    {
      "cell_type": "markdown",
      "metadata": {
        "id": "eYWaKz4gGpU8"
      },
      "source": [
        "Run the code below for minimizing the reparameterized regularized loss using the [\"BFGS\" algorithm](https://en.wikipedia.org/wiki/Broyden%E2%80%93Fletcher%E2%80%93Goldfarb%E2%80%93Shanno_algorithm)."
      ]
    },
    {
      "cell_type": "code",
      "execution_count": null,
      "metadata": {
        "id": "IBZAn0yfGpU8"
      },
      "outputs": [],
      "source": [
        "import scipy\n",
        "import time"
      ]
    },
    {
      "cell_type": "code",
      "execution_count": null,
      "metadata": {
        "id": "I8FE7opPGpU9",
        "colab": {
          "base_uri": "https://localhost:8080/"
        },
        "outputId": "e833052e-fcee-4191-af7e-69aa718bc85a"
      },
      "outputs": [
        {
          "output_type": "execute_result",
          "data": {
            "text/plain": [
              "189.2500663722634"
            ]
          },
          "metadata": {},
          "execution_count": 39
        }
      ],
      "source": [
        "l = 10\n",
        "# function for computing regularized loss\n",
        "f = lambda alpha: Leval_reg_linear_kernel(alpha,X,y,l)[0]\n",
        "# function for computing gradient of regularized loss\n",
        "g = lambda alpha: Leval_reg_linear_kernel(alpha,X,y,l)[1]\n",
        "alpha0 = np.zeros(X.shape[0])\n",
        "# res stores the result of scipy.optimize.minimize, which contains a number of pieces of information\n",
        "res = scipy.optimize.minimize(f, alpha0, args=(), method='BFGS', jac=g) \n",
        "# we're most interest in the minimizing argument, which can be obtained via res.x\n",
        "alpha = res.x\n",
        "# we check the objective value obtained\n",
        "Leval_reg_linear_kernel(alpha,X,y,l)[0]"
      ]
    },
    {
      "cell_type": "markdown",
      "metadata": {
        "id": "rthjCLb8GpU9"
      },
      "source": [
        "You should observe a loss much closer to minimum obtained before reparameterization (which is very close to the true minimum), and the method runs in a fraction of the time that gradient descent would have required! You can time how long the solvers take to converge using the following code. "
      ]
    },
    {
      "cell_type": "code",
      "execution_count": null,
      "metadata": {
        "id": "A3aeHRY1GpU9",
        "colab": {
          "base_uri": "https://localhost:8080/"
        },
        "outputId": "914862ee-7dc0-464c-b2d3-9f0ba5cf1bca"
      },
      "outputs": [
        {
          "output_type": "stream",
          "name": "stdout",
          "text": [
            "Solver time: 0.03015613555908203\n",
            "Minimum loss value: 189.2500663722634\n"
          ]
        }
      ],
      "source": [
        "t = time.time()\n",
        "scipy.optimize.minimize(f, alpha0, args=(), method='newton-cg', jac=g) \n",
        "elapsed = time.time() - t\n",
        "print(\"Solver time: \" + str(elapsed))\n",
        "alpha = res.x\n",
        "print(\"Minimum loss value: \" + str(Leval_reg_linear_kernel(alpha,X,y,l)[0]))"
      ]
    },
    {
      "cell_type": "markdown",
      "metadata": {
        "id": "uovufY3vGpU9"
      },
      "source": [
        "Refering the documentation try out different algorithms for `scipy.optimize.minimize`. Find a first-order method (only requires gradients) which provides a comparable solution to `BFGS` but in less time. Note the method here."
      ]
    },
    {
      "cell_type": "code",
      "execution_count": null,
      "metadata": {
        "id": "dILVm9cdGpU9",
        "colab": {
          "base_uri": "https://localhost:8080/"
        },
        "outputId": "2900355d-cb1d-4144-805b-f61b5fbcb14c"
      },
      "outputs": [
        {
          "output_type": "stream",
          "name": "stdout",
          "text": [
            "Solver time: 1.892209768295288\n",
            "Minimum loss value: 189.2500663722634\n",
            "Solver time: 0.6117510795593262\n",
            "Minimum loss value: 189.2500663722634\n",
            "Solver time: 0.9452521800994873\n",
            "Minimum loss value: 189.2500663722634\n"
          ]
        }
      ],
      "source": [
        "# What's a faster method? \n",
        "t = time.time()\n",
        "scipy.optimize.minimize(f, alpha0, args=(), method='BFGS', jac=g) \n",
        "elapsed = time.time() - t\n",
        "print(\"Solver time: \" + str(elapsed))\n",
        "alpha = res.x\n",
        "print(\"Minimum loss value: \" + str(Leval_reg_linear_kernel(alpha,X,y,l)[0]))\n",
        "\n",
        "t = time.time()\n",
        "scipy.optimize.minimize(f, alpha0, args=(), method='TNC', jac=g) \n",
        "elapsed = time.time() - t\n",
        "print(\"Solver time: \" + str(elapsed))\n",
        "alpha = res.x\n",
        "print(\"Minimum loss value: \" + str(Leval_reg_linear_kernel(alpha,X,y,l)[0]))\n",
        "\n",
        "t = time.time()\n",
        "scipy.optimize.minimize(f, alpha0, args=(), method='L-BFGS-B', jac=g) \n",
        "elapsed = time.time() - t\n",
        "print(\"Solver time: \" + str(elapsed))\n",
        "alpha = res.x\n",
        "print(\"Minimum loss value: \" + str(Leval_reg_linear_kernel(alpha,X,y,l)[0]))\n",
        "\n",
        "print(\"Newton-cg, tnc and L-BFGS-B provides comparable solution but in lesser time.\")"
      ]
    }
  ],
  "metadata": {
    "anaconda-cloud": {},
    "kernelspec": {
      "display_name": "Python 3",
      "language": "python",
      "name": "python3"
    },
    "language_info": {
      "codemirror_mode": {
        "name": "ipython",
        "version": 3
      },
      "file_extension": ".py",
      "mimetype": "text/x-python",
      "name": "python",
      "nbconvert_exporter": "python",
      "pygments_lexer": "ipython3",
      "version": "3.7.4"
    },
    "colab": {
      "provenance": [],
      "collapsed_sections": [],
      "include_colab_link": true
    }
  },
  "nbformat": 4,
  "nbformat_minor": 0
}